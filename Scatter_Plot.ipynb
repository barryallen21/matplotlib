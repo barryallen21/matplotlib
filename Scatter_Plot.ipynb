{
 "cells": [
  {
   "cell_type": "code",
   "execution_count": 1,
   "metadata": {},
   "outputs": [],
   "source": [
    "#s Scatter plot"
   ]
  },
  {
   "cell_type": "code",
   "execution_count": 3,
   "metadata": {},
   "outputs": [],
   "source": [
    "from matplotlib import pyplot as plt\n",
    "import pandas as pd"
   ]
  },
  {
   "cell_type": "code",
   "execution_count": 44,
   "metadata": {},
   "outputs": [
    {
     "data": {
      "text/html": [
       "<div>\n",
       "<style scoped>\n",
       "    .dataframe tbody tr th:only-of-type {\n",
       "        vertical-align: middle;\n",
       "    }\n",
       "\n",
       "    .dataframe tbody tr th {\n",
       "        vertical-align: top;\n",
       "    }\n",
       "\n",
       "    .dataframe thead th {\n",
       "        text-align: right;\n",
       "    }\n",
       "</style>\n",
       "<table border=\"1\" class=\"dataframe\">\n",
       "  <thead>\n",
       "    <tr style=\"text-align: right;\">\n",
       "      <th></th>\n",
       "      <th>ID</th>\n",
       "      <th>Job Title</th>\n",
       "      <th>Email Address</th>\n",
       "      <th>FirstName LastName</th>\n",
       "      <th>Unnamed: 4</th>\n",
       "      <th>Scrap</th>\n",
       "    </tr>\n",
       "  </thead>\n",
       "  <tbody>\n",
       "    <tr>\n",
       "      <th>0</th>\n",
       "      <td>1</td>\n",
       "      <td>Operator</td>\n",
       "      <td>Mabel_Antcliff309@muall.tech</td>\n",
       "      <td>Mabel Antcliff</td>\n",
       "      <td>NaN</td>\n",
       "      <td>23</td>\n",
       "    </tr>\n",
       "    <tr>\n",
       "      <th>1</th>\n",
       "      <td>2</td>\n",
       "      <td>Physician</td>\n",
       "      <td>Harvey_Stevens7613@liret.org</td>\n",
       "      <td>Harvey Stevens</td>\n",
       "      <td>NaN</td>\n",
       "      <td>56</td>\n",
       "    </tr>\n",
       "    <tr>\n",
       "      <th>2</th>\n",
       "      <td>3</td>\n",
       "      <td>Insurance Broker</td>\n",
       "      <td>Daniel_Johnson7678@naiker.biz</td>\n",
       "      <td>Daniel Johnson</td>\n",
       "      <td>NaN</td>\n",
       "      <td>23</td>\n",
       "    </tr>\n",
       "    <tr>\n",
       "      <th>3</th>\n",
       "      <td>4</td>\n",
       "      <td>Stockbroker</td>\n",
       "      <td>Bryon_Quinton6667@ovock.tech</td>\n",
       "      <td>Bryon Quinton</td>\n",
       "      <td>NaN</td>\n",
       "      <td>76</td>\n",
       "    </tr>\n",
       "    <tr>\n",
       "      <th>4</th>\n",
       "      <td>5</td>\n",
       "      <td>Systems Administrator</td>\n",
       "      <td>Alessia_Young5641@famism.biz</td>\n",
       "      <td>Alessia Young</td>\n",
       "      <td>NaN</td>\n",
       "      <td>65</td>\n",
       "    </tr>\n",
       "    <tr>\n",
       "      <th>5</th>\n",
       "      <td>6</td>\n",
       "      <td>Call Center Representative</td>\n",
       "      <td>Hayden_Robinson1070@brety.org</td>\n",
       "      <td>Hayden Robinson</td>\n",
       "      <td>NaN</td>\n",
       "      <td>98</td>\n",
       "    </tr>\n",
       "    <tr>\n",
       "      <th>6</th>\n",
       "      <td>7</td>\n",
       "      <td>Production Painter</td>\n",
       "      <td>Jayden_Cork2943@yahoo.com</td>\n",
       "      <td>Jayden Cork</td>\n",
       "      <td>NaN</td>\n",
       "      <td>12</td>\n",
       "    </tr>\n",
       "    <tr>\n",
       "      <th>7</th>\n",
       "      <td>8</td>\n",
       "      <td>Health Educator</td>\n",
       "      <td>Judith_May9366@famism.biz</td>\n",
       "      <td>Judith May</td>\n",
       "      <td>NaN</td>\n",
       "      <td>43</td>\n",
       "    </tr>\n",
       "    <tr>\n",
       "      <th>8</th>\n",
       "      <td>9</td>\n",
       "      <td>Service Supervisor</td>\n",
       "      <td>Davina_Alexander8760@deavo.com</td>\n",
       "      <td>Davina Alexander</td>\n",
       "      <td>NaN</td>\n",
       "      <td>76</td>\n",
       "    </tr>\n",
       "    <tr>\n",
       "      <th>9</th>\n",
       "      <td>10</td>\n",
       "      <td>Designer</td>\n",
       "      <td>Ethan_Sawyer1398@liret.org</td>\n",
       "      <td>Ethan Sawyer</td>\n",
       "      <td>NaN</td>\n",
       "      <td>32</td>\n",
       "    </tr>\n",
       "  </tbody>\n",
       "</table>\n",
       "</div>"
      ],
      "text/plain": [
       "   ID                   Job Title                   Email Address  \\\n",
       "0   1                    Operator    Mabel_Antcliff309@muall.tech   \n",
       "1   2                   Physician    Harvey_Stevens7613@liret.org   \n",
       "2   3            Insurance Broker   Daniel_Johnson7678@naiker.biz   \n",
       "3   4                 Stockbroker    Bryon_Quinton6667@ovock.tech   \n",
       "4   5       Systems Administrator    Alessia_Young5641@famism.biz   \n",
       "5   6  Call Center Representative   Hayden_Robinson1070@brety.org   \n",
       "6   7          Production Painter       Jayden_Cork2943@yahoo.com   \n",
       "7   8             Health Educator       Judith_May9366@famism.biz   \n",
       "8   9          Service Supervisor  Davina_Alexander8760@deavo.com   \n",
       "9  10                    Designer      Ethan_Sawyer1398@liret.org   \n",
       "\n",
       "  FirstName LastName  Unnamed: 4  Scrap  \n",
       "0     Mabel Antcliff         NaN     23  \n",
       "1     Harvey Stevens         NaN     56  \n",
       "2     Daniel Johnson         NaN     23  \n",
       "3      Bryon Quinton         NaN     76  \n",
       "4      Alessia Young         NaN     65  \n",
       "5    Hayden Robinson         NaN     98  \n",
       "6        Jayden Cork         NaN     12  \n",
       "7         Judith May         NaN     43  \n",
       "8   Davina Alexander         NaN     76  \n",
       "9       Ethan Sawyer         NaN     32  "
      ]
     },
     "execution_count": 44,
     "metadata": {},
     "output_type": "execute_result"
    }
   ],
   "source": [
    "df_1 = pd.read_csv(\"C:\\\\dumyexcel\\\\ExportCSV (2).csv\")\n",
    "df_1"
   ]
  },
  {
   "cell_type": "code",
   "execution_count": 46,
   "metadata": {},
   "outputs": [
    {
     "data": {
      "image/png": "[encoded data removed]",
      "text/plain": [
       "<Figure size 432x288 with 1 Axes>"
      ]
     },
     "metadata": {
      "needs_background": "light"
     },
     "output_type": "display_data"
    }
   ],
   "source": [
    "df_1 = pd.read_csv(\"C:\\\\dumyexcel\\\\ExportCSV (2).csv\")\n",
    "df_1\n",
    "emp_ID = df_1['ID']\n",
    "emp_age = df_1['Scrap']\n",
    "emp_title = df_1['Job Title']\n",
    "plt.scatter(emp_ID,emp_age, color='k',alpha=.9 ,edgecolor ='r',label='emp age',marker='o',s=50 ,linewidth = .8)\n",
    "plt.scatter(emp_title,emp_age, color='k',alpha=.9 ,edgecolor ='m',label='emp title',marker='o',s=50 ,linewidth = .8)\n",
    "plt.title(\"Employee age scatter plot\",fontsize=20 ,color = 'y')\n",
    "plt.xlabel('ID->',fontsize=20)\n",
    "plt.ylabel('AGE->',fontsize=20)\n",
    "plt.grid()\n",
    "plt.legend()\n",
    "plt.show()"
   ]
  },
  {
   "cell_type": "code",
   "execution_count": null,
   "metadata": {},
   "outputs": [],
   "source": []
  }
 ],
 "metadata": {
  "kernelspec": {
   "display_name": "Python 3",
   "language": "python",
   "name": "python3"
  },
  "language_info": {
   "codemirror_mode": {
    "name": "ipython",
    "version": 3
   },
   "file_extension": ".py",
   "mimetype": "text/x-python",
   "name": "python",
   "nbconvert_exporter": "python",
   "pygments_lexer": "ipython3",
   "version": "3.8.5"
  }
 },
 "nbformat": 4,
 "nbformat_minor": 4
}
